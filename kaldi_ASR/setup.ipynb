!sudo apt-get update
!sudo apt-get install -y cmake make gcc g++ git subversion python3-dev python3-pip
!sudo apt-get install -y sox wget zlib1g-dev automake autoconf unzip

!git clone https://github.com/kaldi-asr/kaldi.git
!cd kaldi/tools && extras/install_mkl.sh
!cd kaldi/tools && make -j 4
!cd kaldi/src && ./configure --shared && make depend -j 4 && make -j 4
