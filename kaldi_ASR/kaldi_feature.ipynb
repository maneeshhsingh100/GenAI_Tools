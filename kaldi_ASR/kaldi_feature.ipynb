# Create the required directories
!mkdir -p exp/make_mfcc/local mfcc

# Feature extraction
!steps/make_mfcc.sh --nj 1 --cmd "run.pl" data/local exp/make_mfcc/local mfcc
!steps/compute_cmvn_stats.sh data/local exp/make_mfcc/local mfcc
