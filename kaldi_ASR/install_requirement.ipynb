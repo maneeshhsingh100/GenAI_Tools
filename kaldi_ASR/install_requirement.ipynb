!pip install numpy pandas librosa
