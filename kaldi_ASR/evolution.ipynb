# Create the graph
!utils/mkgraph.sh data/lang_test exp/mono exp/mono/graph

# Decode
!steps/decode.sh --nj 1 --cmd "run.pl" exp/mono/graph data/local exp/mono/decode
