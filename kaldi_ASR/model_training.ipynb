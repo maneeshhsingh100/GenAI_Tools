# Create the dictionary and language models
!utils/prepare_lang.sh data/local/dict "<UNK>" data/local/lang data/lang

# Train the monophone model
!steps/train_mono.sh --nj 1 --cmd "run.pl" data/local data/lang exp/mono
